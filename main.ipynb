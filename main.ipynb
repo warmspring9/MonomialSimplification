{
 "cells": [
  {
   "cell_type": "markdown",
   "id": "b3786eee",
   "metadata": {},
   "source": [
    "Init the needed display libraries."
   ]
  },
  {
   "cell_type": "code",
   "execution_count": 1,
   "id": "61ea3731",
   "metadata": {},
   "outputs": [],
   "source": [
    "import sympy as sym\n",
    "from IPython.display import display, Math"
   ]
  },
  {
   "cell_type": "code",
   "execution_count": 2,
   "id": "a97f0e36",
   "metadata": {},
   "outputs": [],
   "source": [
    "from sympy.abc import x,y,z,a,b,c,d\n",
    "from sympy import evaluate\n",
    "from sympy.parsing.sympy_parser import parse_expr\n"
   ]
  },
  {
   "cell_type": "code",
   "execution_count": 3,
   "id": "cbb1c7bd",
   "metadata": {},
   "outputs": [],
   "source": [
    "def showTEX(text):\n",
    "    text = text.replace(\"^\",\"**\")\n",
    "    temp = parse_expr(text, evaluate=False)\n",
    "    display(Math(sym.latex(temp)))"
   ]
  },
  {
   "cell_type": "code",
   "execution_count": 4,
   "id": "4180d422",
   "metadata": {},
   "outputs": [],
   "source": [
    "def isNumber(text):\n",
    "    try:\n",
    "        temp = float(text)\n",
    "        return True\n",
    "    except ValueError as n:\n",
    "        return False"
   ]
  },
  {
   "cell_type": "code",
   "execution_count": 5,
   "id": "8b7ca3a5",
   "metadata": {},
   "outputs": [],
   "source": [
    "var = ['a', 'b', 'c', 'd', 'x', 'y', 'z']"
   ]
  },
  {
   "cell_type": "code",
   "execution_count": 6,
   "id": "2b94a0ef",
   "metadata": {},
   "outputs": [],
   "source": [
    "def cleanInput(text):\n",
    "    list=[]\n",
    "    var = ['a','b','c','d','x','y','z']\n",
    "    list[:0]=text\n",
    "    l = 0\n",
    "    while l < len(list):\n",
    "        temp = list[l]\n",
    "        if l==0 or temp=='*':\n",
    "            l+=1\n",
    "            continue\n",
    "        if list[l-1]!='(' and list[l-1]!='-' and list[l-1]!='^' and list[l-1]!='*' and list[l-1]!='/':\n",
    "            if (temp == '(' or temp == '-' or temp in var) or (isNumber(temp) and not isNumber(list[l-1])):\n",
    "                list.insert(l, '*')\n",
    "                l+=2\n",
    "            else:\n",
    "                l+=1\n",
    "        else:\n",
    "            l+=1\n",
    "    result = \"\"\n",
    "    return result.join(list)\n",
    "            "
   ]
  },
  {
   "cell_type": "code",
   "execution_count": 7,
   "id": "a9739c2f",
   "metadata": {},
   "outputs": [],
   "source": [
    "def distribute(base, exponent):\n",
    "    done = False\n",
    "    i = 0\n",
    "    start = 0\n",
    "    exitflag = False\n",
    "    while not done:\n",
    "        if i == len(base) or base[i] == '*' or base[i] == '/':\n",
    "            if i == len(base):\n",
    "                exitflag = True\n",
    "            exp = len(exponent)\n",
    "            temp = []\n",
    "            if '^' in base[start:i]:\n",
    "                list = []\n",
    "                temp = base[start:i]\n",
    "                cut = temp.index('^')\n",
    "                expo = temp[cut + 1:]\n",
    "                strTemp = \"\"\n",
    "                strTemp = strTemp.join(expo)\n",
    "                flTemp = parse_expr(strTemp)\n",
    "                strTemp = strTemp.join(exponent)\n",
    "                flTemp2 = parse_expr(strTemp)\n",
    "                resTemp = flTemp * flTemp2\n",
    "                strTemp = '%.2f' % resTemp.evalf()\n",
    "                list[:0] = strTemp\n",
    "                temp = temp[:cut + 1] + list\n",
    "                leng = len(list)\n",
    "                orleng = len(expo)\n",
    "                exp += leng - orleng\n",
    "                base = base[:start] + temp + base[i:]\n",
    "            else:\n",
    "                temp.append('^')\n",
    "                exp += 1\n",
    "                if '/' in exponent or '*' in exponent:\n",
    "                    temp.append('(')\n",
    "                    exp += 1\n",
    "                for j in exponent:\n",
    "                    temp.append(j)\n",
    "                if '/' in exponent or '*' in exponent:\n",
    "                    temp.append(')')\n",
    "                    exp += 1\n",
    "                base[i:i] = temp\n",
    "            if exitflag:\n",
    "                done = True\n",
    "            i += exp + 1\n",
    "            start = i\n",
    "        else:\n",
    "            i += 1\n",
    "\n",
    "    return base\n"
   ]
  },
  {
   "cell_type": "code",
   "execution_count": 8,
   "id": "afdafcce",
   "metadata": {},
   "outputs": [],
   "source": [
    "def computeExponents(text):\n",
    "    list = []\n",
    "    list[:0] = text\n",
    "    done = False\n",
    "    compute = False\n",
    "    i = 0\n",
    "    temp = \"\"\n",
    "    result = \"\"\n",
    "    while not done:\n",
    "        if i == len(list) - 1:\n",
    "            done = True\n",
    "        if compute:\n",
    "            if list[i] == \")\":\n",
    "                fl = parse_expr(temp)\n",
    "                temp = '%.2f' % fl.evalf()\n",
    "                result += temp\n",
    "                temp = \"\"\n",
    "                compute = False\n",
    "            else:\n",
    "                temp += list[i]\n",
    "        else:\n",
    "            if list[i] == \"^\" and i + 1 < len(list):\n",
    "                result += list[i]\n",
    "                if list[i + 1] == \"(\":\n",
    "                    compute = True\n",
    "                    i += 1\n",
    "            else:\n",
    "                if not compute:\n",
    "                    result += list[i]\n",
    "        i += 1\n",
    "    return result"
   ]
  },
  {
   "cell_type": "code",
   "execution_count": 9,
   "id": "0c9525ce",
   "metadata": {},
   "outputs": [],
   "source": [
    "def replaceOperations(list):\n",
    "    list = ['@' if x == '*' else x for x in list]\n",
    "    list = ['*' if x == '/' else x for x in list]\n",
    "    list = ['/' if x == '@' else x for x in list]\n",
    "    return list"
   ]
  },
  {
   "cell_type": "code",
   "execution_count": 10,
   "id": "e03576ac",
   "metadata": {},
   "outputs": [],
   "source": [
    "def cleanP(text):\n",
    "    openers = []\n",
    "    result = \"\"\n",
    "    list = []\n",
    "    list[:0] = text\n",
    "    curr = 0\n",
    "    while curr < len(list):\n",
    "        if list[curr] == '(':\n",
    "            openers.append(curr)\n",
    "        elif list[curr] == ')':\n",
    "            i = 1\n",
    "            appendable = []\n",
    "            # conseguir base y ver si es numerico\n",
    "            numeric = True\n",
    "            base = list[openers[-1] + 1:curr]\n",
    "            baseStr = \"\"\n",
    "            baseStr = baseStr.join(base)\n",
    "            if any(item in base for item in var):\n",
    "                numeric = False\n",
    "            else:\n",
    "                temp = parse_expr(baseStr)\n",
    "                baseStr = '%.2f' % temp.evalf()\n",
    "                base.clear()\n",
    "                base[:0] = baseStr\n",
    "            # ver si hay potencia\n",
    "            if curr != len(list) - 1 and list[curr + 1] == '^':\n",
    "                # si hay potencia conseguir exponente y ver si es simple o fraccion\n",
    "                exponent = \"\"\n",
    "                i = 2\n",
    "                done = False\n",
    "                while not done:\n",
    "                    if not curr + i >= len(list) and (\n",
    "                            isNumber(list[curr + i]) or list[curr + i] == '-' or list[curr + i] == '/'):\n",
    "                        exponent = exponent + list[curr + i]\n",
    "                        i += 1\n",
    "                    else:\n",
    "                        done = True\n",
    "                        temp = parse_expr(exponent)\n",
    "                        exponent = '%.2f' % temp.evalf()\n",
    "                # si es simple hacer la multiplicacion de base exc\n",
    "                if numeric:\n",
    "                    try:\n",
    "                        exp = float(exponent)\n",
    "                        result = '%.2f' % temp ** exp\n",
    "                    except ValueError as n:\n",
    "                        print(\"exponent not numeric\")\n",
    "                        result = 0\n",
    "\n",
    "                else:\n",
    "                    expo = []\n",
    "                    expo.append(exponent)\n",
    "                    result = distribute(list[openers[-1] + 1:curr], expo)\n",
    "            elif curr != len(list) - 1 and list[curr + 1] == '/':\n",
    "                # replace all the * yo / and / to *\n",
    "                reptemp = list[curr+2:]\n",
    "                reptemp = replaceOperations(reptemp)\n",
    "                list[curr+2:] = reptemp\n",
    "                result = baseStr\n",
    "            else:\n",
    "                result = baseStr\n",
    "            # eliminar expresion anterior empezando de ( a )\n",
    "            del list[openers[-1]:curr + i]\n",
    "            # devolver el cursor al principio de (\n",
    "            if len(openers) != 0:\n",
    "                curr = openers.pop(-1)\n",
    "            # agregar el resultado y adelantar el cursor al final del resultado\n",
    "            res = []\n",
    "            res[:0] = result\n",
    "            leng = len(res)-1\n",
    "            list[curr:curr] = res\n",
    "            curr += leng\n",
    "        curr += 1\n",
    "    return list\n"
   ]
  },
  {
   "cell_type": "code",
   "execution_count": 11,
   "id": "d25b8b31",
   "metadata": {},
   "outputs": [],
   "source": [
    "def exponent(curr):\n",
    "    temp = parse_expr(curr[0])\n",
    "    temp2 = parse_expr(curr[1])\n",
    "    mult = temp ** temp2\n",
    "    curr[0] = '%.2f' % mult.evalf()\n",
    "    curr[1] = \"1\"\n",
    "    return curr"
   ]
  },
  {
   "cell_type": "code",
   "execution_count": 12,
   "id": "cfd68128",
   "metadata": {},
   "outputs": [],
   "source": [
    "def factor(text):\n",
    "    factors = []\n",
    "    i = 0\n",
    "    curr = [\"\", \"1\", '*']\n",
    "    for element in text:\n",
    "        if element == '^':\n",
    "            i = 1\n",
    "            curr[1] = \"\"\n",
    "        elif element == '*' or element == '/':\n",
    "            i = 0\n",
    "            if isNumber(curr[0]):\n",
    "                curr = exponent(curr)\n",
    "            if curr[1] == \"\":\n",
    "                curr[1] = \"1\"\n",
    "            factors.append(curr)\n",
    "            curr = [\"\", \"1\", element]\n",
    "        else:\n",
    "            curr[i] += str(element)\n",
    "    if isNumber(curr[0]):\n",
    "        curr = exponent(curr)\n",
    "    if curr[1] == \"\":\n",
    "        curr[1] = \"1\"\n",
    "    factors.append(curr)\n",
    "    return factors"
   ]
  },
  {
   "cell_type": "code",
   "execution_count": 13,
   "id": "948a190a",
   "metadata": {},
   "outputs": [],
   "source": [
    "def show(factors):\n",
    "    final = \"\"\n",
    "    for i in factors:\n",
    "        final += i[0]+\"^\"+i[1]+i[2]\n",
    "\n",
    "    final = final[:-1]\n",
    "    showTEX(final)"
   ]
  },
  {
   "cell_type": "code",
   "execution_count": 14,
   "id": "2b5ae706",
   "metadata": {},
   "outputs": [],
   "source": [
    "def search(factors, element):\n",
    "    i = 0\n",
    "    for x in factors:\n",
    "        if x[0] == element or '-'+x[0] == element or x[0] == '-'+element:\n",
    "            return i\n",
    "        elif isNumber(x[0]) and isNumber(element):\n",
    "            return i\n",
    "        i+=1\n",
    "    return -1"
   ]
  },
  {
   "cell_type": "code",
   "execution_count": 15,
   "id": "b1b6b1c8",
   "metadata": {},
   "outputs": [],
   "source": [
    "def simplify(text):\n",
    "    print(\"Parte 1 (Calcular exponentes)\")\n",
    "    text = computeExponents(text)\n",
    "    showTEX(text)\n",
    "    list = cleanP(text)\n",
    "    print(\"Parte 2 (Eliminar parentesis)\")\n",
    "    temp = \"\"\n",
    "    temp = temp.join(list)\n",
    "    showTEX(temp)\n",
    "    factors = factor(list)\n",
    "    result = []\n",
    "    print(\"Parte 3 (Pasar factores)\")\n",
    "    for f in factors:\n",
    "        i = search(result, f[0])\n",
    "        if i != -1:\n",
    "            curr = result[i]\n",
    "            if isNumber(curr[0]):\n",
    "                temp1 = float(curr[0])\n",
    "                temp2 = float(f[0])\n",
    "                if f[2] == \"*\":\n",
    "                    temp1 *= temp2\n",
    "                else:\n",
    "                    temp1 /= temp2\n",
    "                curr[0] = '%.2f' % temp1\n",
    "            else:\n",
    "                neg1 = '-' in curr[0]\n",
    "                neg2 = '-' in f[0]\n",
    "                if neg1 and neg2:\n",
    "                    curr[0] = curr[0].replace(\"-\",\"\")\n",
    "                elif neg2:\n",
    "                    curr[0] = '-' + curr[0]\n",
    "                    \n",
    "                temp1 = float(curr[1])\n",
    "                temp2 = float(f[1])\n",
    "                if f[2] == \"*\":\n",
    "                    temp1 += temp2\n",
    "                else:\n",
    "                    temp1 -= temp2\n",
    "                curr[1] = '%.2f' % temp1\n",
    "            result[i] = curr\n",
    "        else:\n",
    "            result.append(f)\n",
    "        show(result)\n",
    "    print(\"Resultado\")\n",
    "    show(result)\n"
   ]
  },
  {
   "cell_type": "code",
   "execution_count": 16,
   "id": "7976d23f",
   "metadata": {},
   "outputs": [
    {
     "name": "stdout",
     "output_type": "stream",
     "text": [
      "Solo utilizar las variables x,y,z,a,b,c,d\n",
      "Ingrese la expression de modo a^2*5*(4*b)^4:(-1y^(3/2)/y^(-1/3))^3\n",
      "Ingresaste:\n"
     ]
    },
    {
     "data": {
      "text/latex": [
       "$\\displaystyle \\left(y^{\\frac{3}{2}} \\left(-1\\right) \\frac{1}{y^{\\frac{1}{3} \\left(-1\\right)}}\\right)^{3}$"
      ],
      "text/plain": [
       "<IPython.core.display.Math object>"
      ]
     },
     "metadata": {},
     "output_type": "display_data"
    },
    {
     "name": "stdout",
     "output_type": "stream",
     "text": [
      "Parte 1 (Calcular exponentes)\n"
     ]
    },
    {
     "data": {
      "text/latex": [
       "$\\displaystyle \\left(y^{1.5} \\left(-1\\right) \\frac{1}{y^{-0.33}}\\right)^{3}$"
      ],
      "text/plain": [
       "<IPython.core.display.Math object>"
      ]
     },
     "metadata": {},
     "output_type": "display_data"
    },
    {
     "name": "stdout",
     "output_type": "stream",
     "text": [
      "Parte 2 (Eliminar parentesis)\n"
     ]
    },
    {
     "data": {
      "text/latex": [
       "$\\displaystyle \\frac{- 1^{3.0} y^{4.5}}{y^{-0.99}}$"
      ],
      "text/plain": [
       "<IPython.core.display.Math object>"
      ]
     },
     "metadata": {},
     "output_type": "display_data"
    },
    {
     "name": "stdout",
     "output_type": "stream",
     "text": [
      "Parte 3 (Pasar factores)\n"
     ]
    },
    {
     "data": {
      "text/latex": [
       "$\\displaystyle - 1.0^{1}$"
      ],
      "text/plain": [
       "<IPython.core.display.Math object>"
      ]
     },
     "metadata": {},
     "output_type": "display_data"
    },
    {
     "data": {
      "text/latex": [
       "$\\displaystyle - 1.0^{1} y^{4.5}$"
      ],
      "text/plain": [
       "<IPython.core.display.Math object>"
      ]
     },
     "metadata": {},
     "output_type": "display_data"
    },
    {
     "data": {
      "text/latex": [
       "$\\displaystyle - 1.0^{1} y^{5.49}$"
      ],
      "text/plain": [
       "<IPython.core.display.Math object>"
      ]
     },
     "metadata": {},
     "output_type": "display_data"
    },
    {
     "name": "stdout",
     "output_type": "stream",
     "text": [
      "Resultado\n"
     ]
    },
    {
     "data": {
      "text/latex": [
       "$\\displaystyle - 1.0^{1} y^{5.49}$"
      ],
      "text/plain": [
       "<IPython.core.display.Math object>"
      ]
     },
     "metadata": {},
     "output_type": "display_data"
    }
   ],
   "source": [
    "print(\"Solo utilizar las variables x,y,z,a,b,c,d\")\n",
    "userInput = input(\"Ingrese la expression de modo a^2*5*(4*b)^4:\" )\n",
    "res = cleanInput(userInput)\n",
    "print(\"Ingresaste:\")\n",
    "showTEX(res)\n",
    "simplify(res)"
   ]
  }
 ],
 "metadata": {
  "kernelspec": {
   "display_name": "Python 3",
   "language": "python",
   "name": "python3"
  },
  "language_info": {
   "codemirror_mode": {
    "name": "ipython",
    "version": 3
   },
   "file_extension": ".py",
   "mimetype": "text/x-python",
   "name": "python",
   "nbconvert_exporter": "python",
   "pygments_lexer": "ipython3",
   "version": "3.8.5"
  }
 },
 "nbformat": 4,
 "nbformat_minor": 5
}
